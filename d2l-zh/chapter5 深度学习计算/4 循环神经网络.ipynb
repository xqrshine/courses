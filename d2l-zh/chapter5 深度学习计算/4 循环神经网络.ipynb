{
 "cells": [
  {
   "cell_type": "markdown",
   "id": "0ba95cf3",
   "metadata": {},
   "source": [
    "隐藏状态的矩阵相乘计算"
   ]
  },
  {
   "cell_type": "code",
   "execution_count": 1,
   "id": "3ee7907c",
   "metadata": {},
   "outputs": [],
   "source": [
    "import torch\n",
    "from d2l import torch as d2l"
   ]
  },
  {
   "cell_type": "code",
   "execution_count": 3,
   "id": "dae37514",
   "metadata": {},
   "outputs": [
    {
     "data": {
      "text/plain": [
       "tensor([[-1.0349, -0.7259,  1.8528,  1.7538],\n",
       "        [ 1.8224,  0.8478, -1.7606, -5.8493],\n",
       "        [-2.0005, -0.6938,  1.0549,  1.2979]])"
      ]
     },
     "execution_count": 3,
     "metadata": {},
     "output_type": "execute_result"
    }
   ],
   "source": [
    "X, W_xh = torch.normal(0, 1, (3, 1)), torch.normal(0, 1, (1, 4))\n",
    "H, W_hh = torch.normal(0, 1, (3, 4)), torch.normal(0, 1, (4, 4))\n",
    "torch.matmul(X, W_xh) + torch.matmul(H, W_hh)"
   ]
  },
  {
   "cell_type": "code",
   "execution_count": 4,
   "id": "f44ab00f",
   "metadata": {},
   "outputs": [
    {
     "data": {
      "text/plain": [
       "tensor([[-1.0349, -0.7259,  1.8528,  1.7538],\n",
       "        [ 1.8224,  0.8478, -1.7606, -5.8493],\n",
       "        [-2.0005, -0.6938,  1.0549,  1.2979]])"
      ]
     },
     "execution_count": 4,
     "metadata": {},
     "output_type": "execute_result"
    }
   ],
   "source": [
    "torch.matmul(torch.cat((X, H), axis=1), torch.cat((W_xh, W_hh), axis=0))"
   ]
  },
  {
   "cell_type": "markdown",
   "id": "0a3b881b",
   "metadata": {},
   "source": [
    "基于循环神经网络的字符级语言模型"
   ]
  },
  {
   "cell_type": "code",
   "execution_count": null,
   "id": "9d8677e2",
   "metadata": {},
   "outputs": [],
   "source": []
  }
 ],
 "metadata": {
  "kernelspec": {
   "display_name": "d2l-zh",
   "language": "python",
   "name": "d2l-zh"
  },
  "language_info": {
   "codemirror_mode": {
    "name": "ipython",
    "version": 3
   },
   "file_extension": ".py",
   "mimetype": "text/x-python",
   "name": "python",
   "nbconvert_exporter": "python",
   "pygments_lexer": "ipython3",
   "version": "3.6.8"
  },
  "latex_envs": {
   "LaTeX_envs_menu_present": true,
   "autoclose": false,
   "autocomplete": true,
   "bibliofile": "biblio.bib",
   "cite_by": "apalike",
   "current_citInitial": 1,
   "eqLabelWithNumbers": true,
   "eqNumInitial": 1,
   "hotkeys": {
    "equation": "Ctrl-E",
    "itemize": "Ctrl-I"
   },
   "labels_anchors": false,
   "latex_user_defs": false,
   "report_style_numbering": false,
   "user_envs_cfg": false
  },
  "toc": {
   "base_numbering": 1,
   "nav_menu": {},
   "number_sections": true,
   "sideBar": true,
   "skip_h1_title": false,
   "title_cell": "Table of Contents",
   "title_sidebar": "Contents",
   "toc_cell": false,
   "toc_position": {},
   "toc_section_display": true,
   "toc_window_display": false
  }
 },
 "nbformat": 4,
 "nbformat_minor": 5
}
