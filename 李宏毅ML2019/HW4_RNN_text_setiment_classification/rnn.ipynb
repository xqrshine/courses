{
 "cells": [
  {
   "cell_type": "code",
   "execution_count": 3,
   "id": "424026fa-f9d6-4421-b8aa-d77569c48cf0",
   "metadata": {},
   "outputs": [],
   "source": [
    "import warnings\n",
    "warnings.filterwarnings('ignore')  # 忽略匹配的异常"
   ]
  },
  {
   "cell_type": "markdown",
   "id": "17dd6b7d",
   "metadata": {},
   "source": [
    "训练词向量 class\n",
    "\n",
    "数据预处理，打包 class\n",
    "\n",
    "建模 class； 训练 class\n",
    "\n",
    "预测 class"
   ]
  },
  {
   "cell_type": "markdown",
   "id": "32fd538c-129e-42a2-9536-fffd9624db75",
   "metadata": {},
   "source": [
    "# utils"
   ]
  },
  {
   "cell_type": "code",
   "execution_count": 4,
   "id": "3602b7f3-5259-4632-8613-72b3231ff1a4",
   "metadata": {
    "code_folding": []
   },
   "outputs": [],
   "source": [
    "# 加载训练集方法\n",
    "def load_training_data(path=\"traning_label.txt\"):\n",
    "    \"\"\"\n",
    "    输出每句话的分词（按英文空格分）列表 和 标签列表\n",
    "    \"\"\"\n",
    "    # 带label的训练集\n",
    "    if \"training_label\" in path:\n",
    "        with open(path, 'r') as f:\n",
    "            lines = f.readlines()\n",
    "            lines= [line.strip('\\n').split(' ') for line in lines]\n",
    "        x = [line[2:] for line in lines]\n",
    "        y = [line[0] for line in lines]\n",
    "        return x, y\n",
    "    # 不带label的训练集    \n",
    "    else:\n",
    "        with open(path, 'r') as f:\n",
    "            lines = f.readlines()\n",
    "            x = [line.strip('\\n').split(' ') for line in lines]\n",
    "        return x"
   ]
  },
  {
   "cell_type": "code",
   "execution_count": 5,
   "id": "559a6536-0f2a-4986-994d-ab842b5114ae",
   "metadata": {
    "code_folding": []
   },
   "outputs": [],
   "source": [
    "# 加载测试集方法\n",
    "def load_testing_data(path=\"testing_data.txt\"):\n",
    "    with open(path, 'r') as f:\n",
    "        lines = f.readlines()\n",
    "        X = [','.join(line.strip('\\n').split(',')[1:]).strip() for line in lines[1:]]\n",
    "        X = [sen.split(' ') for sen in X]\n",
    "    return X"
   ]
  },
  {
   "cell_type": "code",
   "execution_count": 6,
   "id": "85d760aa-3877-4f88-ac68-25b496cd4397",
   "metadata": {
    "code_folding": []
   },
   "outputs": [],
   "source": [
    "# 评估方法\n",
    "def evaluation(outputs, labels):\n",
    "    \"\"\"\n",
    "    outputs 和 labels是tensor类型。\n",
    "    sigmoid激活后输出，所以outputs的范围是(0,1)。\n",
    "    \"\"\"\n",
    "    outputs[outputs>=0.5] = 1\n",
    "    outputs[outputs<0.5] = 0\n",
    "    correct = torch.sum(torch.eq(outputs,labels)).item()\n",
    "    return correct\n",
    "    "
   ]
  },
  {
   "cell_type": "markdown",
   "id": "33bd2bd2",
   "metadata": {},
   "source": [
    "# word2vec"
   ]
  },
  {
   "cell_type": "code",
   "execution_count": 7,
   "id": "c9238f85",
   "metadata": {
    "code_folding": []
   },
   "outputs": [
    {
     "name": "stdout",
     "output_type": "stream",
     "text": [
      "loading traning data...\n",
      "loading testing data...\n",
      "saving model...\n"
     ]
    }
   ],
   "source": [
    "from gensim.models import word2vec\n",
    "def train_word2vec(x):\n",
    "    model = word2vec.Word2Vec(x, vector_size=250, min_count=5, window=5, workers=12, epochs=10, sg=1)  # sg=1 为Skip-Gram, sg=0(默认) 为CBOW。\n",
    "    return model\n",
    "\n",
    "if __name__ == \"__main__\":\n",
    "    print(\"loading traning data...\")\n",
    "    x_train, y_train = load_training_data(\"training_label.txt\")\n",
    "    print(\"loading testing data...\")\n",
    "    x_test = load_testing_data(\"testing_data.txt\")\n",
    "    wv_model = train_word2vec(x_train + x_test)\n",
    "    print(\"saving model...\")\n",
    "    wv_model.save(\"w2v.model\")\n",
    "    "
   ]
  },
  {
   "cell_type": "markdown",
   "id": "a34c1c14",
   "metadata": {},
   "source": [
    "> wv_model.wv.vectors: 词向量矩阵\n",
    "\n",
    "> wv_model.wv.key_to_index: word2idx字典\n",
    "\n",
    "> wv_model.wv.index_to_key: idx2word列表"
   ]
  },
  {
   "cell_type": "code",
   "execution_count": 8,
   "id": "253ba776",
   "metadata": {},
   "outputs": [
    {
     "data": {
      "text/plain": [
       "numpy.ndarray"
      ]
     },
     "execution_count": 8,
     "metadata": {},
     "output_type": "execute_result"
    }
   ],
   "source": [
    "type(wv_model.wv.vectors)"
   ]
  },
  {
   "cell_type": "markdown",
   "id": "e8417e9d",
   "metadata": {},
   "source": [
    "> 训练预训练模型使用 1 分钟 时间 \n",
    "\n"
   ]
  },
  {
   "cell_type": "markdown",
   "id": "60b743f3-509d-4264-8408-f18705a616e2",
   "metadata": {},
   "source": [
    "# data prepropress"
   ]
  },
  {
   "cell_type": "code",
   "execution_count": 9,
   "id": "9e1f885c-9aaa-4d22-9f38-48b5ea0b4725",
   "metadata": {},
   "outputs": [],
   "source": [
    "from torch import nn\n",
    "from gensim.models import Word2Vec\n",
    "class Prepropress:\n",
    "    def __init__(self, sentences, sen_len, w2v_path=\"w2v.model\"):\n",
    "        self.w2v_path = w2v_path\n",
    "        self.sentences = sentences\n",
    "        self.sen_len = sen_len\n",
    "        self.idx2word = []\n",
    "        self.word2idx = {}\n",
    "        self.embedding_matrix = []\n",
    "    \n",
    "    def get_w2v_model(self):\n",
    "        self.embedding = Word2Vec.load(self.w2v_path)  # 加载词向量预训练模型\n",
    "        self.embedding_size = self.embedding.vector_size\n",
    "        \n",
    "    def add_embedding(self, word):\n",
    "        # 将<PAD> 和 <UNK> 添加到embedding_matrix, 为这两个word赋予一个随机的向量\n",
    "        vector = torch.empty(1, self.embedding_size)\n",
    "        nn.init.uniform_(vector)\n",
    "        self.word2idx[word] = len(self.word2idx)\n",
    "        self.idx2word.append(word)\n",
    "#         self.embedding_matrix.append(vector)\n",
    "        self.embedding_matrix = torch.cat([self.embedding_matrix, vector], dim=0)\n",
    "        \n",
    "    def make_embedding(self, load=True):\n",
    "        if load:\n",
    "            self.get_w2v_model()\n",
    "        else:\n",
    "            raise NotImplementedError\n",
    "#         for i, word in enumerate(self.embedding.wv.key_to_index.key()):\n",
    "#             self.word2idx[word] = len(self.word2idx)\n",
    "#             self.idx2word.append(word)\n",
    "#             self.embedding_matrix.append(self.embedding[word])\n",
    "        self.word2idx = self.embedding.wv.key_to_index\n",
    "        self.idx2word = self.embedding.wv.index_to_key\n",
    "        self.embedding_matrix = self.embedding.wv.vectors\n",
    "        self.embedding_matrix = torch.tensor(self.embedding_matrix)\n",
    "        # 添加<pad>和<unk>\n",
    "        self.add_embedding('<PAD>')\n",
    "        self.add_embedding('<UNK>')\n",
    "        return self.embedding_matrix\n",
    "    \n",
    "    def pad_sentence(self, sentence):\n",
    "        if len(sentence) < self.sen_len:\n",
    "            pad_len = self.sen_len - len(sentence)\n",
    "#             print(f'pad_len:{pad_len}')\n",
    "            sentence += [self.word2idx['<PAD>']] * pad_len\n",
    "#             print(f'sentence: {sentence}')\n",
    "        else:\n",
    "            sentence = sentence[:self.sen_len]\n",
    "#         print(f'len(sentence):{len(sentence)}')\n",
    "#         print(f'self.sen_len: {self.sen_len}')\n",
    "        assert len(sentence) == self.sen_len\n",
    "        return sentence\n",
    "    \n",
    "    def sentence_word2idx(self):\n",
    "        # 把句子中的单词转换为index\n",
    "        sentence_list = []\n",
    "        for i, sentence in enumerate(self.sentences):\n",
    "            sentence_i = []\n",
    "            for word in sentence:\n",
    "#                 if word in self.word2idx:\n",
    "#                     word_vector = self.embedding_matrix(self.word2idx[word])\n",
    "#                 else:\n",
    "#                     word_vector = self.embedding_matrix(self.word2idx['<UNK>'])\n",
    "                if word in self.word2idx:\n",
    "                    sentence_i.append(self.word2idx[word])\n",
    "                else:\n",
    "                    sentence_i.append(self.word2idx['<UNK>'])\n",
    "#                 sentence_i.append(word_vector)\n",
    "            sentence_i = self.pad_sentence(sentence_i)\n",
    "            sentence_list.append(sentence_i)\n",
    "        return torch.LongTensor(sentence_list)\n",
    "    \n",
    "    def labels_to_tensor(self, y):\n",
    "        y = [int(label) for label in y]\n",
    "        return torch.LongTensor(y)\n",
    "        "
   ]
  },
  {
   "cell_type": "markdown",
   "id": "90434fef-1aea-4110-b782-d081b977b656",
   "metadata": {},
   "source": [
    "# Dataset"
   ]
  },
  {
   "cell_type": "code",
   "execution_count": 10,
   "id": "b099952b-dcb4-480a-ab5b-c8c26f4e4f51",
   "metadata": {
    "code_folding": []
   },
   "outputs": [],
   "source": [
    "from torch.utils import data\n",
    "class MyDataset(data.Dataset):\n",
    "    \"\"\"\n",
    "    将数据包装为Dataset类，然后传入DataLoader，使用DataLoader这个类对数据操作\n",
    "    \"\"\"\n",
    "    def __init__(self, X, y):\n",
    "        self.data = X\n",
    "        self.label = y\n",
    "        \n",
    "    def __getitem__(self, index):\n",
    "        if self.label is not None:\n",
    "            return self.data[index], self.label[index]\n",
    "        else:\n",
    "            return self.data[index]\n",
    "        \n",
    "    def __len__(self):\n",
    "        return len(self.data)\n",
    "        "
   ]
  },
  {
   "cell_type": "markdown",
   "id": "f0487714",
   "metadata": {},
   "source": [
    "# Model"
   ]
  },
  {
   "cell_type": "code",
   "execution_count": 11,
   "id": "f80f73c7",
   "metadata": {
    "code_folding": []
   },
   "outputs": [],
   "source": [
    "import torch\n",
    "from torch import nn\n",
    "class LSTM_net(nn.Module):\n",
    "    def __init__(self, embedding, embedding_dim, hidden_dim, n_layer, dropout, fix_embedding):\n",
    "        super(LSTM_net, self).__init__()\n",
    "        # embedding layer\n",
    "        self.embedding = nn.Embedding(embedding.size(0), embedding.size(1))\n",
    "        self.embedding.weight = nn.Parameter(embedding)  # 将一个变量转换为可训练的参数，并将这个参数绑定到module的net.parameter()中\n",
    "        self.embedding.weight.reqiure_grad = False if fix_embedding else True  # 是否将embedding fix住，如果fix_embedding为False，那么在训练过程中embedding也会跟着训练\n",
    "        # 疑问：embedding.size(1)和embedding_dim不一样吗？\n",
    "        self.embedding_dim = embedding.size(1)\n",
    "        self.hidden_dim = hidden_dim\n",
    "        self.n_layer = n_layer\n",
    "        self.dropout = dropout\n",
    "        self.lstm = nn.LSTM(embedding_dim, hidden_dim, n_layer, batch_first=True)\n",
    "        self.classifer = nn.Sequential(nn.Dropout(dropout),\n",
    "                                      nn.Linear(hidden_dim, 1),\n",
    "                                      nn.Sigmoid())\n",
    "        \n",
    "        \n",
    "    def forward(self, inputs):\n",
    "        inputs = self.embedding(inputs)\n",
    "        x, _ = self.lstm(inputs, None)\n",
    "        # 取用lstm最优一层的hidden state\n",
    "        x = x[:, -1, :]\n",
    "        x = self.classifer(x)\n",
    "        return x"
   ]
  },
  {
   "cell_type": "markdown",
   "id": "48742fda",
   "metadata": {},
   "source": [
    "# Train"
   ]
  },
  {
   "cell_type": "code",
   "execution_count": 17,
   "id": "7686c30f",
   "metadata": {
    "code_folding": []
   },
   "outputs": [],
   "source": [
    "import torch\n",
    "from torch.nn import BCELoss\n",
    "# from torch.nn.function import binary_cross_entropy\n",
    "import torch.optim as optim \n",
    "    \n",
    "def train(train, val, epoches, model, lr, batch_size, device):\n",
    "    \"\"\"\n",
    "    训练集train, 验证集val，轮数epoches，模型model，学习率lr, 批大小batch_size\n",
    "    \"\"\"\n",
    "    # 损失函数\n",
    "    total = sum(p.numel() for p in model.parameters())\n",
    "    trainable = sum(p.numel() for p in model.parameters() if p.requires_grad)\n",
    "    print(\"total parameters: {} ; trainable parameters: {}\".format(total, trainable))\n",
    "    criterion = BCELoss()\n",
    "    optimizer = optim.Adam(model.parameters(), lr=lr)\n",
    "    t_batches = len(train)\n",
    "    v_batches = len(val)\n",
    "    best_acc = 0\n",
    "    for epoch in range(epoches):\n",
    "        model.train()\n",
    "        total_loss, total_acc = 0, 0\n",
    "        for i, (inputs, labels) in enumerate(train):\n",
    "            inputs = inputs.to(device, dtype=torch.long)\n",
    "            labels = labels.to(device, dtype=torch.float)\n",
    "            # inputs: (batch_size, sen_len)\n",
    "            # inputs 中的值是word2id 的id值\n",
    "#             print(f'training  inputs: {inputs}')\n",
    "#             print(f'training inputs.shape: {inputs.shape}')\n",
    "            optimizer.zero_grad()\n",
    "            outputs = model(inputs)\n",
    "            outputs = outputs.squeeze()  # 去掉张量内元素的外层的所有中括号\n",
    "            loss = criterion(outputs, labels)  # 计算损失\n",
    "            loss.backward()  # 反向传播梯度\n",
    "            optimizer.step()\n",
    "            \n",
    "            acc = evaluation(outputs, labels)\n",
    "            # end = '\\r' 滚动输出到屏幕\n",
    "            print(\"[Epoch_{} {}/{}], loss: {:.3f}, acc: {:.3f}\".format(\n",
    "                epoch, i, t_batches, loss.item(), acc/batch_size*100), end=\"\\r\")\n",
    "\n",
    "            total_loss += loss.item()\n",
    "            total_acc += acc / batch_size\n",
    "        print(\"[Epoch_{}], total_loss: {:.3f}, total_acc: {:.3f}\".format(\n",
    "            epoch, total_loss / t_batches, total_acc / t_batches * 100))\n",
    "\n",
    "        model.eval()\n",
    "        with torch.no_grad():\n",
    "            total_loss, total_acc = 0, 0\n",
    "            for i, (inputs, labels) in enumerate(val):\n",
    "                inputs = inputs.to(device, dtype=torch.long)\n",
    "                labels  = labels.to(device, dtype=torch.float)\n",
    "                outputs = model(inputs)\n",
    "                outputs = outputs.squeeze()\n",
    "                loss = criterion(outputs, labels)\n",
    "                acc = evaluation(outputs, labels)\n",
    "                total_loss += loss.item()\n",
    "                total_acc += acc / batch_size\n",
    "            print(\"Valid:[Epoch_{}], total_loss: {:.3f}, total_acc: {:.3f}\".format(\n",
    "                epoch, total_loss / v_batches, total_acc / v_batches * 100))\n",
    "            if total_acc > best_acc:\n",
    "#                 print(\"best_acc: {:.3f}\".format(best_acc))\n",
    "                best_acc = total_acc\n",
    "                torch.save(model, 'ckpt.model')\n",
    "                print(f'saving model with acc {total_acc/v_batches*100 :.3f}')\n",
    "        print(\"---------------------------------------------\")"
   ]
  },
  {
   "cell_type": "markdown",
   "id": "85e1ba22",
   "metadata": {},
   "source": [
    "# Test"
   ]
  },
  {
   "cell_type": "code",
   "execution_count": 19,
   "id": "1a5809d8",
   "metadata": {
    "code_folding": []
   },
   "outputs": [],
   "source": [
    "import torch\n",
    "def test(test_x, model, batch_size, device):\n",
    "    model.eval()\n",
    "    res_list = []\n",
    "    with torch.no_grad():\n",
    "        for i, inputs in enumerate(test_x):\n",
    "            inputs = inputs.to(device, dtype=torch.long)\n",
    "            outputs = model(inputs)\n",
    "            outputs = outputs.squeeze()\n",
    "            outputs[outputs >= 0.5] = 1\n",
    "            outputs[outputs < 0.5] = 0\n",
    "            res_list += outputs.int().tolist()\n",
    "    return res_list            "
   ]
  },
  {
   "cell_type": "code",
   "execution_count": null,
   "id": "3864123a",
   "metadata": {},
   "outputs": [],
   "source": []
  },
  {
   "cell_type": "code",
   "execution_count": null,
   "id": "e72f48f5",
   "metadata": {},
   "outputs": [],
   "source": []
  },
  {
   "cell_type": "markdown",
   "id": "cbc59c82",
   "metadata": {},
   "source": [
    "# main"
   ]
  },
  {
   "cell_type": "code",
   "execution_count": 14,
   "id": "5700bf74-28bd-4cc6-a156-1670cc75b2fe",
   "metadata": {},
   "outputs": [
    {
     "name": "stdout",
     "output_type": "stream",
     "text": [
      "preprocess data ... ...\n",
      "dataset ... ...\n"
     ]
    }
   ],
   "source": [
    "import os\n",
    "import torch\n",
    "from torch import nn\n",
    "from torch.utils.data import DataLoader\n",
    "from sklearn.model_selection import train_test_split \n",
    "\n",
    "device = torch.device(\"cuda\" if torch.cuda.is_available() else \"cpu\")  # 设置运算的设备\n",
    "\n",
    "# - 运行word2vec模块，由训练集和测试集训练生成w2v.model预训练模型。\n",
    "# - 处理预训练的词向量，生成word2idx, idx2word, embedding_matrix。处理数据集，将句子处理成word2idx的格式，每个句子一个列表，并转为张量；将label处理成列表并转为张量。\n",
    "train_x, train_y = load_training_data('training_label.txt')\n",
    "train_x_no_label = load_training_data('training_nolabel.txt')\n",
    "test_x = load_testing_data('testing_data.txt')\n",
    "\n",
    "sen_len = 20\n",
    "batch_size = 128\n",
    "epoches=10\n",
    "lr = 0.001\n",
    "\n",
    "print(f'preprocess data ... ...')\n",
    "preprocess = Prepropress(train_x, sen_len=sen_len, w2v_path='w2v.model')\n",
    "embedding = preprocess.make_embedding(load=True)\n",
    "train_x = preprocess.sentence_word2idx()\n",
    "train_y = preprocess.labels_to_tensor(train_y)\n",
    "\n",
    "print(f'dataset ... ...')\n",
    "# x_train, y_train, x_val, y_val = train_x[:180000], y[:180000], train_x[180000:], y[180000:]\n",
    "X_train, X_val, y_train, y_val = train_test_split(\n",
    "    train_x, train_y, test_size=0.1, random_state=1, stratify=train_y)\n"
   ]
  },
  {
   "cell_type": "code",
   "execution_count": 15,
   "id": "e6bb93f8",
   "metadata": {},
   "outputs": [
    {
     "name": "stdout",
     "output_type": "stream",
     "text": [
      "dataloader ... ...\n"
     ]
    }
   ],
   "source": [
    "# 将数据集包装成dataset类\n",
    "train_dataset = MyDataset(X_train, y_train)\n",
    "val_dataset = MyDataset(X_val, y_val)\n",
    "\n",
    "print(f'dataloader ... ...')\n",
    "# 将数据集分批成dataloader类\n",
    "train_loader = DataLoader(train_dataset, batch_size=batch_size, shuffle=True, num_workers=8)\n",
    "val_loader = DataLoader(val_dataset, batch_size=batch_size, shuffle=False, num_workers=8)\n"
   ]
  },
  {
   "cell_type": "code",
   "execution_count": 18,
   "id": "7d32c8d1",
   "metadata": {},
   "outputs": [
    {
     "name": "stdout",
     "output_type": "stream",
     "text": [
      "traning ... ...\n",
      "total parameters: 6415851 ; trainable parameters: 6415851\n",
      "[Epoch_0], total_loss: 0.482, total_acc: 76.133\n",
      "Valid:[Epoch_0], total_loss: 0.432, total_acc: 79.707\n",
      "saving model with acc 79.707\n",
      "---------------------------------------------\n",
      "[Epoch_1], total_loss: 0.402, total_acc: 81.537\n",
      "Valid:[Epoch_1], total_loss: 0.426, total_acc: 79.857\n",
      "saving model with acc 79.857\n",
      "---------------------------------------------\n",
      "[Epoch_2], total_loss: 0.355, total_acc: 84.167\n",
      "Valid:[Epoch_2], total_loss: 0.465, total_acc: 79.424\n",
      "---------------------------------------------\n",
      "[Epoch_3], total_loss: 0.305, total_acc: 86.607\n",
      "Valid:[Epoch_3], total_loss: 0.489, total_acc: 78.921\n",
      "---------------------------------------------\n",
      "[Epoch_4], total_loss: 0.253, total_acc: 89.109\n",
      "Valid:[Epoch_4], total_loss: 0.573, total_acc: 77.772\n",
      "---------------------------------------------\n",
      "[Epoch_5], total_loss: 0.207, total_acc: 91.120\n",
      "Valid:[Epoch_5], total_loss: 0.640, total_acc: 77.314\n",
      "---------------------------------------------\n",
      "[Epoch_6], total_loss: 0.172, total_acc: 92.663\n",
      "Valid:[Epoch_6], total_loss: 0.816, total_acc: 76.951\n",
      "---------------------------------------------\n",
      "[Epoch_7], total_loss: 0.144, total_acc: 93.892\n",
      "Valid:[Epoch_7], total_loss: 0.873, total_acc: 76.219\n",
      "---------------------------------------------\n",
      "[Epoch_8], total_loss: 0.122, total_acc: 94.849\n",
      "Valid:[Epoch_8], total_loss: 1.015, total_acc: 76.368\n",
      "---------------------------------------------\n",
      "[Epoch_9], total_loss: 0.104, total_acc: 95.650\n",
      "Valid:[Epoch_9], total_loss: 1.132, total_acc: 76.368\n",
      "---------------------------------------------\n"
     ]
    }
   ],
   "source": [
    "print(f'traning ... ...')\n",
    "model = LSTM_net(embedding=embedding, embedding_dim=250, hidden_dim=150, n_layer=1, dropout=0.5, fix_embedding=True)\n",
    "model = model.to(device)\n",
    "train(train=train_loader, val=val_loader, epoches=epoches, model=model, lr=lr, batch_size=batch_size, device=device)"
   ]
  },
  {
   "cell_type": "markdown",
   "id": "999672b9",
   "metadata": {},
   "source": [
    "# predict and write to csv file"
   ]
  },
  {
   "cell_type": "code",
   "execution_count": 22,
   "id": "380282b4",
   "metadata": {},
   "outputs": [
    {
     "name": "stdout",
     "output_type": "stream",
     "text": [
      "loading testing data ... ...\n",
      "loading model ... ...\n",
      "saving csv ... ...\n",
      "finish predicting!\n"
     ]
    }
   ],
   "source": [
    "import pandas as pd \n",
    "\n",
    "print(f'loading testing data ... ...')\n",
    "test_x = load_testing_data('testing_data.txt')\n",
    "preprocess = Prepropress(test_x, sen_len=50)\n",
    "embedding = preprocess.make_embedding(load=True)\n",
    "test_x = preprocess.sentence_word2idx()\n",
    "test_dataset = MyDataset(test_x, None)\n",
    "test_loader = torch.utils.data.DataLoader(dataset=test_dataset, batch_size=128, \n",
    "                                          shuffle=False, num_workers=8)\n",
    "\n",
    "print(f'loading model ... ...')\n",
    "model = torch.load('ckpt.model')\n",
    "outputs = test(test_loader, model, batch_size=batch_size, device=device)\n",
    "\n",
    "# 保存为csv\n",
    "tmp = pd.DataFrame({\"id\":[str(i) for i in range(len(test_x))], \"label\": outputs})\n",
    "print(f'saving csv ... ...')\n",
    "tmp.to_csv('predict.csv', index=False)\n",
    "print(f'finish predicting!')"
   ]
  },
  {
   "cell_type": "markdown",
   "id": "fdfb7fc7",
   "metadata": {},
   "source": [
    "# 基础版\n",
    "1. 使用的RNN模型架构\n",
    "- embedding layer - LSTM ,dropout - Linear, Sigmoid\n",
    "2. word embedding 方法\n",
    "- word2vec的skip-gram算法，用中心词来预测周围的词\n",
    "3. 模型的训练结果：\n",
    "- [Epoch_1], total_loss: 0.402, total_acc: 81.537\n",
    "- Valid:[Epoch_1], total_loss: 0.426, total_acc: 79.857"
   ]
  },
  {
   "cell_type": "markdown",
   "id": "cc018387",
   "metadata": {},
   "source": [
    "# 改进 预处理"
   ]
  },
  {
   "cell_type": "markdown",
   "id": "f3d2cf49",
   "metadata": {},
   "source": [
    "# 改进 embedding"
   ]
  },
  {
   "cell_type": "markdown",
   "id": "63121f45",
   "metadata": {},
   "source": [
    "# 改进 model"
   ]
  },
  {
   "cell_type": "code",
   "execution_count": null,
   "id": "e54c00e4",
   "metadata": {},
   "outputs": [],
   "source": []
  }
 ],
 "metadata": {
  "kernelspec": {
   "display_name": "venv_main",
   "language": "python",
   "name": "venv_main"
  },
  "language_info": {
   "codemirror_mode": {
    "name": "ipython",
    "version": 3
   },
   "file_extension": ".py",
   "mimetype": "text/x-python",
   "name": "python",
   "nbconvert_exporter": "python",
   "pygments_lexer": "ipython3",
   "version": "3.6.8"
  }
 },
 "nbformat": 4,
 "nbformat_minor": 5
}
